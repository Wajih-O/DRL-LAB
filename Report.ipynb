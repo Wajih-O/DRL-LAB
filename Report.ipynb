{
 "cells": [
  {
   "cell_type": "markdown",
   "metadata": {},
   "source": [
    "# Navigation\n",
    "\n",
    "---\n",
    "\n",
    "In this notebook, you will learn how to use the Unity ML-Agents environment for the first project of the [Deep Reinforcement Learning Nanodegree](https://www.udacity.com/course/deep-reinforcement-learning-nanodegree--nd893).\n",
    "\n",
    "### 1. Start the Environment\n",
    "\n",
    "We begin by importing some necessary packages.  If the code cell below returns an error, please revisit the project instructions to double-check that you have installed [Unity ML-Agents](https://github.com/Unity-Technologies/ml-agents/blob/master/docs/Installation.md) and [NumPy](http://www.numpy.org/)."
   ]
  },
  {
   "cell_type": "code",
   "execution_count": 1,
   "metadata": {},
   "outputs": [],
   "source": [
    "%load_ext autoreload\n",
    "%autoreload 2\n",
    "from unityagents import UnityEnvironment\n",
    "import numpy as np\n",
    "from collections import deque\n",
    "import matplotlib.pyplot as plt\n",
    "import torch\n",
    "from dqn_agent import DQNAgent\n",
    "from replay_buffer import UniformReplayBufferFactory, PrioritizedReplayBufferFactory\n",
    "from q_net  import QFCNetFactory\n",
    "\n",
    "import inspect"
   ]
  },
  {
   "cell_type": "markdown",
   "metadata": {},
   "source": [
    "Next, we will start the environment!  **_Before running the code cell below_**, change the `file_name` parameter to match the location of the Unity environment that you downloaded.\n",
    "\n",
    "- **Mac**: `\"path/to/Banana.app\"`\n",
    "- **Windows** (x86): `\"path/to/Banana_Windows_x86/Banana.exe\"`\n",
    "- **Windows** (x86_64): `\"path/to/Banana_Windows_x86_64/Banana.exe\"`\n",
    "- **Linux** (x86): `\"path/to/Banana_Linux/Banana.x86\"`\n",
    "- **Linux** (x86_64): `\"path/to/Banana_Linux/Banana.x86_64\"`\n",
    "- **Linux** (x86, headless): `\"path/to/Banana_Linux_NoVis/Banana.x86\"`\n",
    "- **Linux** (x86_64, headless): `\"path/to/Banana_Linux_NoVis/Banana.x86_64\"`\n",
    "\n",
    "For instance, if you are using a Mac, then you downloaded `Banana.app`.  If this file is in the same folder as the notebook, then the line below should appear as follows:\n",
    "```\n",
    "env = UnityEnvironment(file_name=\"Banana.app\")\n",
    "```"
   ]
  },
  {
   "cell_type": "code",
   "execution_count": 2,
   "metadata": {},
   "outputs": [
    {
     "name": "stdout",
     "output_type": "stream",
     "text": [
      "Current platform: Linux-x86_64\n"
     ]
    }
   ],
   "source": [
    "import platform\n",
    "import os\n",
    "\n",
    "# Checking platform/machine\n",
    "print('Current platform: {}-{}'.format(platform.system(), platform.machine()))\n",
    "\n",
    "# Since I am switching between platforms\n",
    "unity_env_file_name = {'Linux-x86_64': os.path.join('Banana_Linux', 'Banana.x86_64'),\n",
    "                       'Darwin-x86_64': os.path.join('Banana_Darwin', 'Banana.app')}['{}-{}'.format(platform.system(), platform.machine())]"
   ]
  },
  {
   "cell_type": "code",
   "execution_count": 3,
   "metadata": {},
   "outputs": [
    {
     "name": "stderr",
     "output_type": "stream",
     "text": [
      "INFO:unityagents:\n",
      "'Academy' started successfully!\n",
      "Unity Academy name: Academy\n",
      "        Number of Brains: 1\n",
      "        Number of External Brains : 1\n",
      "        Lesson number : 0\n",
      "        Reset Parameters :\n",
      "\t\t\n",
      "Unity brain name: BananaBrain\n",
      "        Number of Visual Observations (per agent): 0\n",
      "        Vector Observation space type: continuous\n",
      "        Vector Observation space size (per agent): 37\n",
      "        Number of stacked Vector Observation: 1\n",
      "        Vector Action space type: discrete\n",
      "        Vector Action space size (per agent): 4\n",
      "        Vector Action descriptions: , , , \n"
     ]
    }
   ],
   "source": [
    "env = UnityEnvironment(file_name=unity_env_file_name)"
   ]
  },
  {
   "cell_type": "markdown",
   "metadata": {},
   "source": [
    "Environments contain **_brains_** which are responsible for deciding the actions of their associated agents. Here we check for the first brain available, and set it as the default brain we will be controlling from Python."
   ]
  },
  {
   "cell_type": "code",
   "execution_count": 4,
   "metadata": {},
   "outputs": [],
   "source": [
    "# get the default brain\n",
    "brain_name = env.brain_names[0]\n",
    "brain = env.brains[brain_name]"
   ]
  },
  {
   "cell_type": "markdown",
   "metadata": {},
   "source": [
    "### 2. Examine the State and Action Spaces\n",
    "\n",
    "The simulation contains a single agent that navigates a large environment.  At each time step, it has four actions at its disposal:\n",
    "- `0` - walk forward \n",
    "- `1` - walk backward\n",
    "- `2` - turn left\n",
    "- `3` - turn right\n",
    "\n",
    "The state space has `37` dimensions and contains the agent's velocity, along with ray-based perception of objects around agent's forward direction.  A reward of `+1` is provided for collecting a yellow banana, and a reward of `-1` is provided for collecting a blue banana. \n",
    "\n",
    "Run the code cell below to print some information about the environment."
   ]
  },
  {
   "cell_type": "code",
   "execution_count": 5,
   "metadata": {},
   "outputs": [
    {
     "name": "stdout",
     "output_type": "stream",
     "text": [
      "Number of agents: 1\n",
      "Number of actions: 4\n",
      "States look like: [1.         0.         0.         0.         0.84408134 0.\n",
      " 0.         1.         0.         0.0748472  0.         1.\n",
      " 0.         0.         0.25755    1.         0.         0.\n",
      " 0.         0.74177343 0.         1.         0.         0.\n",
      " 0.25854847 0.         0.         1.         0.         0.09355672\n",
      " 0.         1.         0.         0.         0.31969345 0.\n",
      " 0.        ]\n",
      "States have length: 37\n"
     ]
    }
   ],
   "source": [
    "# reset the environment\n",
    "env_info = env.reset(train_mode=True)[brain_name]\n",
    "\n",
    "# number of agents in the environment\n",
    "print('Number of agents:', len(env_info.agents))\n",
    "\n",
    "# number of actions\n",
    "action_size = brain.vector_action_space_size\n",
    "print('Number of actions:', action_size)\n",
    "\n",
    "# examine the state space \n",
    "state = env_info.vector_observations[0]\n",
    "print('States look like:', state)\n",
    "state_size = len(state)\n",
    "print('States have length:', state_size)"
   ]
  },
  {
   "cell_type": "markdown",
   "metadata": {},
   "source": [
    "## 4.DQN Exploration"
   ]
  },
  {
   "cell_type": "markdown",
   "metadata": {},
   "source": [
    "The task is episodic, and in order to solve the environment, the agent must get an average score of +13 over 100 consecutive episodes.\n",
    "The architecture explored  to solve the vector observation environment is a fully connected network with 2 hidden layer with 64 node each. Each of the hidden layer is followed by a non linear activation (`Relu` activation), as we can remark in the default architecture built via the factory (see code below)."
   ]
  },
  {
   "cell_type": "code",
   "execution_count": 6,
   "metadata": {},
   "outputs": [
    {
     "name": "stdout",
     "output_type": "stream",
     "text": [
      "    def __init__(self, state_size: int, action_size: int, seed: int = 0, fc1_units: int = 64,\n",
      "                 fc2_units: int = 64):\n",
      "        \"\"\"Initialize parameters and build model.\n",
      "\n",
      "        :param state_size: Dimension of each state\n",
      "        :param action_size: Dimension of each action\n",
      "        :param seed: Random seed\n",
      "        :param fc1_units: Number of nodes in first hidden layer\n",
      "        :param fc2_units: Number of nodes in second hidden layer\n",
      "        \"\"\"\n",
      "        super(QFCNet, self).__init__()\n",
      "        self.seed = torch.manual_seed(seed)\n",
      "        self.fc1 = nn.Linear(state_size, fc1_units)\n",
      "        self.fc2 = nn.Linear(fc1_units, fc2_units)\n",
      "        self.fc3 = nn.Linear(fc2_units, action_size)\n",
      "\n"
     ]
    }
   ],
   "source": [
    "from q_net  import QFCNet\n",
    "print(inspect.getsource(QFCNet.__init__))"
   ]
  },
  {
   "cell_type": "code",
   "execution_count": 7,
   "metadata": {},
   "outputs": [],
   "source": [
    "def ma(scores, window):\n",
    "    \"\"\" Moving average helper (for result plotting)\"\"\"\n",
    "    tmp = np.cumsum(scores)\n",
    "    return (tmp[window:] - tmp[:-window])/window"
   ]
  },
  {
   "cell_type": "code",
   "execution_count": 8,
   "metadata": {},
   "outputs": [],
   "source": [
    "def plot_scores(agents, episodes_window=100):\n",
    "    \"\"\" A helper to plot scores.\"\"\"\n",
    "    fig = plt.figure()\n",
    "    ax = fig.add_subplot(111)\n",
    "    for agent in agents:\n",
    "        scores = ma (agent.scores, episodes_window)\n",
    "        plt.plot(np.arange(episodes_window, episodes_window + len(scores)), scores, label=agent.name) \n",
    "\n",
    "    plt.yticks (range(14))\n",
    "    plt.ylabel('Score av. window [{}]'.format(episodes_window))\n",
    "    plt.xlabel('Episode #')\n",
    "    plt.legend()\n",
    "    plt.grid()\n",
    "    plt.show()"
   ]
  },
  {
   "cell_type": "code",
   "execution_count": 9,
   "metadata": {},
   "outputs": [],
   "source": [
    "def extract_state(env_info) -> np.ndarray:\n",
    "    \"\"\" state extractor: extracts state representation from env_info\"\"\"\n",
    "    return env_info.vector_observations[0]\n"
   ]
  },
  {
   "cell_type": "code",
   "execution_count": 10,
   "metadata": {},
   "outputs": [],
   "source": [
    "# Defines a factory that builds a default FCN (64, Relu, 64, Relu, action_size) as described before\n",
    "# used for the base_line as seems to work well\n",
    "# (will explore more architecture after Refactoring the Pytorch Netork builder)\n",
    "\n",
    "net_factory = QFCNetFactory(state_size, action_size)"
   ]
  },
  {
   "cell_type": "markdown",
   "metadata": {},
   "source": [
    "### The Base line (as a succeful solver)"
   ]
  },
  {
   "cell_type": "code",
   "execution_count": 11,
   "metadata": {},
   "outputs": [
    {
     "name": "stdout",
     "output_type": "stream",
     "text": [
      "Episode 100\tAverage Score: 1.06\n",
      "Episode 200\tAverage Score: 5.47\n",
      "Episode 300\tAverage Score: 9.14\n",
      "Episode 400\tAverage Score: 11.71\n",
      "Episode 428\tAverage Score: 13.11\n",
      "Environment solved in 428 episodes!\tAverage Score: 13.11\n"
     ]
    }
   ],
   "source": [
    "replay_buffer_factory = UniformReplayBufferFactory()\n",
    "the_base_line_solver = DQNAgent(net_factory, replay_buffer_factory, seed=0,  batch_size=64, step_to_update= 5, \n",
    "                                buffer_size=int(1e5), gamma=.99, lr=5e-4, tau=1e-3, episodes_window_size=100,\n",
    "                                name='the solver')\n",
    "the_base_line_solver.explore(env, extract_state, n_episodes=600)"
   ]
  },
  {
   "cell_type": "code",
   "execution_count": 12,
   "metadata": {},
   "outputs": [
    {
     "data": {
      "image/png": "[encoded data removed]",
      "text/plain": [
       "<Figure size 432x288 with 1 Axes>"
      ]
     },
     "metadata": {
      "needs_background": "light"
     },
     "output_type": "display_data"
    }
   ],
   "source": [
    "plot_scores([the_base_line_solver])"
   ]
  },
  {
   "cell_type": "markdown",
   "metadata": {},
   "source": [
    "### Exprimenting with fater (not that soft) update (higher tau.) should be less stable\n",
    "\n",
    "In this section the network hyperparameter were kept the same while the target Q is updated faster so the name `the_jumpy`"
   ]
  },
  {
   "cell_type": "code",
   "execution_count": 13,
   "metadata": {},
   "outputs": [
    {
     "name": "stdout",
     "output_type": "stream",
     "text": [
      "Episode 100\tAverage Score: 2.20\n",
      "Episode 200\tAverage Score: 4.88\n",
      "Episode 300\tAverage Score: 8.41\n",
      "Episode 400\tAverage Score: 10.11\n",
      "Episode 500\tAverage Score: 12.57\n",
      "Episode 600\tAverage Score: 12.55\n"
     ]
    }
   ],
   "source": [
    "replay_buffer_factory = UniformReplayBufferFactory()\n",
    "the_jumpy = DQNAgent(net_factory, replay_buffer_factory, seed=0,  batch_size=64, step_to_update= 5,\n",
    "                   buffer_size=int(1e5), gamma=.99, lr=5e-4, tau=1e-1, episodes_window_size=100, name='the jumpy')\n",
    "the_jumpy.explore(env, extract_state, n_episodes=600) # as we solved the env in less than 500 episodes"
   ]
  },
  {
   "cell_type": "markdown",
   "metadata": {},
   "source": [
    "### A simple stoch. prioritization\n",
    "\n",
    "This section is about testing a simple priority mechanism. At each training/learn step while giving an increasing chance (throughout the process) to experiences with higher error to conduct the training (training to reduce these errors). Thus we called our agent here `error_smasher`.\n",
    "\n"
   ]
  },
  {
   "cell_type": "code",
   "execution_count": 14,
   "metadata": {},
   "outputs": [
    {
     "name": "stdout",
     "output_type": "stream",
     "text": [
      "    def sample(self):\n",
      "        \"\"\"Randomly sample a batch of experiences from memory.\"\"\"\n",
      "        highest_error_experience = nsmallest(self.batch_size, self.memory, key=lambda item: item.error)\n",
      "        uniform_random_sample = random.sample(self.memory, k=self.batch_size)\n",
      "        experiences = [\n",
      "            uniform_random_sample[index] if random.random() < self.alpha else\n",
      "            heappop(highest_error_experience) for index in range(self.batch_size)]\n",
      "        # update alpha\n",
      "        self.alpha = max(self.alpha * self.decay, self.min_alpha)\n",
      "        return experiences\n",
      "\n"
     ]
    }
   ],
   "source": [
    "from replay_buffer  import  PrioritizedReplayBuffer\n",
    "print(inspect.getsource(PrioritizedReplayBuffer.sample))"
   ]
  },
  {
   "cell_type": "code",
   "execution_count": 15,
   "metadata": {},
   "outputs": [
    {
     "name": "stdout",
     "output_type": "stream",
     "text": [
      "Episode 100\tAverage Score: 1.72\n",
      "Episode 200\tAverage Score: 6.74\n",
      "Episode 300\tAverage Score: 10.20\n",
      "Episode 392\tAverage Score: 13.06\n",
      "Environment solved in 392 episodes!\tAverage Score: 13.06\n"
     ]
    }
   ],
   "source": [
    "greedy_high_error = PrioritizedReplayBufferFactory()\n",
    "error_smasher = DQNAgent(net_factory, greedy_high_error,  seed=0, buffer_size=int(1e5), batch_size=64, name='stoch. prioritized')\n",
    "error_smasher.explore(env, extract_state, n_episodes=600)"
   ]
  },
  {
   "cell_type": "markdown",
   "metadata": {},
   "source": [
    "## Comparing all the agents"
   ]
  },
  {
   "cell_type": "code",
   "execution_count": 23,
   "metadata": {},
   "outputs": [
    {
     "data": {
      "image/png": "[encoded data removed]",
      "text/plain": [
       "<Figure size 432x288 with 1 Axes>"
      ]
     },
     "metadata": {
      "needs_background": "light"
     },
     "output_type": "display_data"
    }
   ],
   "source": [
    "plot_scores([the_base_line_solver, the_jumpy, error_smasher])"
   ]
  },
  {
   "cell_type": "markdown",
   "metadata": {},
   "source": [
    "## Closing the environement"
   ]
  },
  {
   "cell_type": "markdown",
   "metadata": {},
   "source": [
    "When finished, you can close the environment."
   ]
  },
  {
   "cell_type": "code",
   "execution_count": 24,
   "metadata": {},
   "outputs": [],
   "source": [
    "env.close()"
   ]
  },
  {
   "cell_type": "markdown",
   "metadata": {},
   "source": [
    "## Future Exploration \n",
    "\n",
    "### Experimenting with deeper architectures\n",
    "\n",
    "### Add/Support Dueling Network Architectures\n",
    "\n",
    "## Pixels Visual Observation as state\n",
    "\n",
    "I already started exprimenting with a convolutional DQN with the visual environment. The experiments conducted for now shows a low perf. compared to the vector observation which consumes a better digested and cleaner input. \n",
    "\n",
    "### Issue to solve.\n",
    "Also I need to check the a Unity/python memory leakage problem (I have in the current code version) to run with more episodes.\n",
    "\n",
    "### Specifically\n",
    "\n",
    "Include more frames might also help deciding which way to explore before starting collecting the bananas.\n",
    "\n"
   ]
  },
  {
   "cell_type": "code",
   "execution_count": null,
   "metadata": {},
   "outputs": [],
   "source": []
  }
 ],
 "metadata": {
  "kernelspec": {
   "display_name": "Python 3",
   "language": "python",
   "name": "python3"
  },
  "language_info": {
   "codemirror_mode": {
    "name": "ipython",
    "version": 3
   },
   "file_extension": ".py",
   "mimetype": "text/x-python",
   "name": "python",
   "nbconvert_exporter": "python",
   "pygments_lexer": "ipython3",
   "version": "3.6.9"
  }
 },
 "nbformat": 4,
 "nbformat_minor": 4
}
